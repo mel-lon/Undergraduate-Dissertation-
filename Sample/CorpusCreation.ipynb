{
 "cells": [
  {
   "cell_type": "code",
   "execution_count": 1,
   "metadata": {},
   "outputs": [],
   "source": [
    "import pandas as pd, numpy as np, random, csv, os\n",
    "from convokit import Corpus, download, Utterance\n"
   ]
  },
  {
   "cell_type": "code",
   "execution_count": 2,
   "metadata": {},
   "outputs": [],
   "source": [
    "#list of subreddits - commented out the ones which are ignored\n",
    "subreddits = [\n",
    "    # <Males> 500-1000 speakers and 2-3k utterances\n",
    "    \"NinjasHyper\", \n",
    "    \"DanTDM\",\n",
    "    \"Angory_Tom\",\n",
    "    \"NakeyJakey\",\n",
    "    \"LazarBeam\",\n",
    "\n",
    "    # <Females> 500-1.5k speakers and 3-5k utterances\n",
    "    \"Pokimane\", \n",
    "    \"Amouranth\",\n",
    "    \"legendarylea\", \n",
    "    \"KittyKatGaming\",\n",
    "    \"lilypichu\",\n",
    "    ]"
   ]
  },
  {
   "cell_type": "code",
   "execution_count": 3,
   "metadata": {},
   "outputs": [
    {
     "name": "stdout",
     "output_type": "stream",
     "text": [
      "Dataset already exists at /Users/admin/.convokit/downloads/subreddit-NinjasHyper\n",
      "Number of Speakers: 672\n",
      "Number of Utterances: 1708\n",
      "Number of Conversations: 944\n",
      "Dataset already exists at /Users/admin/.convokit/downloads/subreddit-DanTDM\n",
      "Number of Speakers: 280\n",
      "Number of Utterances: 1887\n",
      "Number of Conversations: 1496\n",
      "Dataset already exists at /Users/admin/.convokit/downloads/subreddit-Angory_Tom\n",
      "Number of Speakers: 695\n",
      "Number of Utterances: 2686\n",
      "Number of Conversations: 935\n",
      "Dataset already exists at /Users/admin/.convokit/downloads/subreddit-NakeyJakey\n",
      "Number of Speakers: 818\n",
      "Number of Utterances: 2183\n",
      "Number of Conversations: 453\n",
      "Dataset already exists at /Users/admin/.convokit/downloads/subreddit-LazarBeam\n",
      "Number of Speakers: 955\n",
      "Number of Utterances: 2074\n",
      "Number of Conversations: 744\n",
      "Dataset already exists at /Users/admin/.convokit/downloads/subreddit-Pokimane\n",
      "Number of Speakers: 1150\n",
      "Number of Utterances: 3548\n",
      "Number of Conversations: 1017\n",
      "Dataset already exists at /Users/admin/.convokit/downloads/subreddit-Amouranth\n",
      "Number of Speakers: 636\n",
      "Number of Utterances: 4930\n",
      "Number of Conversations: 2114\n",
      "Dataset already exists at /Users/admin/.convokit/downloads/subreddit-legendarylea\n",
      "Number of Speakers: 1531\n",
      "Number of Utterances: 4810\n",
      "Number of Conversations: 993\n",
      "Dataset already exists at /Users/admin/.convokit/downloads/subreddit-KittyKatGaming\n",
      "Number of Speakers: 277\n",
      "Number of Utterances: 2191\n",
      "Number of Conversations: 1399\n",
      "Dataset already exists at /Users/admin/.convokit/downloads/subreddit-lilypichu\n",
      "Number of Speakers: 2915\n",
      "Number of Utterances: 7233\n",
      "Number of Conversations: 1427\n",
      "Master corpus created successfully.\n",
      "Number of Speakers: 2582\n",
      "Number of Utterances: 5000\n",
      "Number of Conversations: 2861\n"
     ]
    }
   ],
   "source": [
    "# Create a master corpus with the sampled utterances\n",
    "sampled_utterances = []\n",
    "\n",
    "for subreddit in subreddits:\n",
    "    corpus = Corpus(filename=download (f\"subreddit-{subreddit}\"))\n",
    "    stats = corpus.print_summary_stats()\n",
    "    utterances = [utt for utt in corpus.iter_utterances() if utt.text]  # Filter out utterances with missing text\n",
    "    sampled_utterances.extend(random.sample(utterances, min(500, len(utterances))))\n",
    "\n",
    "master_corpus = Corpus(utterances=sampled_utterances)\n",
    "print(\"Master corpus created successfully.\")\n",
    "master_corpus.print_summary_stats()\n",
    "\n"
   ]
  },
  {
   "cell_type": "code",
   "execution_count": 10,
   "metadata": {},
   "outputs": [
    {
     "ename": "ModuleNotFoundError",
     "evalue": "No module named 'langdetect'",
     "output_type": "error",
     "traceback": [
      "\u001b[0;31m---------------------------------------------------------------------------\u001b[0m",
      "\u001b[0;31mModuleNotFoundError\u001b[0m                       Traceback (most recent call last)",
      "Cell \u001b[0;32mIn[10], line 2\u001b[0m\n\u001b[1;32m      1\u001b[0m \u001b[38;5;28;01mimport\u001b[39;00m \u001b[38;5;21;01mre\u001b[39;00m\n\u001b[0;32m----> 2\u001b[0m \u001b[38;5;28;01mimport\u001b[39;00m \u001b[38;5;21;01mlangdetect\u001b[39;00m\n\u001b[1;32m      4\u001b[0m \u001b[38;5;66;03m# Define a function to filter utterances based on specified criteria\u001b[39;00m\n\u001b[1;32m      5\u001b[0m \u001b[38;5;28;01mdef\u001b[39;00m \u001b[38;5;21mfilter_utterance\u001b[39m(curr_utt):\n",
      "\u001b[0;31mModuleNotFoundError\u001b[0m: No module named 'langdetect'"
     ]
    }
   ],
   "source": [
    "import re\n",
    "import langdetect\n",
    "\n",
    "# Define a function to filter utterances based on specified criteria\n",
    "def filter_utterance(curr_utt):\n",
    "    banned_words = [\"bot\", \"Bot\"]\n",
    "    pronouns = [\"I\", \"me\", \"my\", \"mine\", \"myself\", \"he\", \"him\", \"her\", \"hers\", \"they\", \"them\", \"we\", \"us\"]\n",
    "    subreddit_keywords = [subreddit.lower() for subreddit in subreddits]\n",
    "    \n",
    "    # Check if the utterance contains banned words\n",
    "    if any(word in curr_utt.text for word in banned_words):\n",
    "        return False\n",
    "\n",
    "    # Check if the utterance is not in English\n",
    "    try:\n",
    "        if langdetect.detect(curr_utt.text) != 'en':\n",
    "            return False\n",
    "    except:\n",
    "        # If language detection fails, assume it's not in English\n",
    "        return False\n",
    "\n",
    "    # Check if the utterance mentions Twitch, \"merch\", and \"video\"\n",
    "    if \"twitch\" in curr_utt.text.lower() and \"merch\" in curr_utt.text.lower() and \"video\" in curr_utt.text.lower():\n",
    "        return True\n",
    "\n",
    "    # Check if the utterance contains any pronouns and does not contain subreddit keywords\n",
    "    if all(re.search(r'\\b{}\\b'.format(word), curr_utt.text, re.IGNORECASE) for word in pronouns) \\\n",
    "            and not any(word in curr_utt.text.lower() for word in subreddit_keywords):\n",
    "        return True\n",
    "\n",
    "    return False\n",
    "\n",
    "# Apply the filter function to the master corpus to create the filtered sample\n",
    "filtered_utterances = [utt for utt in master_corpus.iter_utterances() if filter_utterance(utt)]\n",
    "\n",
    "# Create a new corpus with the filtered utterances\n",
    "filtered_corpus = Corpus(utterances=filtered_utterances)\n",
    "\n",
    "# Save the filtered corpus to a new file in the same folder\n",
    "filtered_corpus.dump(\"filtered_corpus\")\n",
    "\n",
    "print(\"Filtered corpus created and saved successfully.\")\n",
    "filtered_corpus.print_summary_stats()\n"
   ]
  },
  {
   "cell_type": "code",
   "execution_count": 6,
   "metadata": {},
   "outputs": [
    {
     "name": "stdout",
     "output_type": "stream",
     "text": [
      "Dataset already exists at /Users/admin/.convokit/downloads/subreddit-Amouranth\n",
      "Dataset already exists at /Users/admin/.convokit/downloads/subreddit-Angory_Tom\n",
      "Dataset already exists at /Users/admin/.convokit/downloads/subreddit-DanTDM\n",
      "Dataset already exists at /Users/admin/.convokit/downloads/subreddit-KittyKatGaming\n",
      "Dataset already exists at /Users/admin/.convokit/downloads/subreddit-LazarBeam\n",
      "Dataset already exists at /Users/admin/.convokit/downloads/subreddit-NakeyJakey\n",
      "Dataset already exists at /Users/admin/.convokit/downloads/subreddit-NinjasHyper\n",
      "Dataset already exists at /Users/admin/.convokit/downloads/subreddit-Pokimane\n",
      "Dataset already exists at /Users/admin/.convokit/downloads/subreddit-legendarylea\n",
      "Dataset already exists at /Users/admin/.convokit/downloads/subreddit-lilypichu\n",
      "Processed data saved to /Users/admin/Documents/University/diss-data-collection/Classifier/Sample/processed_4.csv\n"
     ]
    }
   ],
   "source": [
    "from convokit import Corpus, download\n",
    "import pandas as pd\n",
    "\n",
    "# Load the CSV file\n",
    "csv_file_path = \"/Users/admin/Documents/University/diss-data-collection/Classifier/Sample/combined_utterances_2_final_csv.csv\"\n",
    "data = pd.read_csv(csv_file_path)\n",
    "\n",
    "# Group the data by subreddit\n",
    "grouped_data = data.groupby('subreddit')\n",
    "\n",
    "# Initialize an empty list to store the processed data\n",
    "processed_data = []\n",
    "\n",
    "# Iterate through each group\n",
    "for subreddit, group in grouped_data:\n",
    "    # Load the corpus for the current subreddit\n",
    "    corpus = Corpus(filename=download(f\"subreddit-{subreddit}\"))\n",
    "    \n",
    "    # Iterate through each utterance in the group\n",
    "    for utterance_id in group['id']:\n",
    "        # Get the utterance from the corpus\n",
    "        utterance = corpus.get_utterance(utterance_id)\n",
    "        if utterance:\n",
    "            # Get the conversation ID for the utterance\n",
    "            conversation_id = utterance.conversation_id\n",
    "            conversation = corpus.get_conversation(conversation_id)\n",
    "            if conversation:\n",
    "                num_utterances = len(conversation.get_utterance_ids())\n",
    "                processed_data.append({\n",
    "                    'subreddit': subreddit,\n",
    "                    'utterance_id': utterance_id,\n",
    "                    'conversation_id': conversation_id,\n",
    "                    'num_utterances': num_utterances\n",
    "                })\n",
    "            else:\n",
    "                print(f\"No conversation found for utterance {utterance_id}\")\n",
    "        else:\n",
    "            print(f\"No utterance found with ID {utterance_id}\")\n",
    "\n",
    "# Convert the processed data to a DataFrame\n",
    "processed_df = pd.DataFrame(processed_data)\n",
    "\n",
    "# Save the processed DataFrame to a new CSV file\n",
    "output_file_path = \"/Users/admin/Documents/University/diss-data-collection/Classifier/Sample/processed_4.csv\"\n",
    "processed_df.to_csv(output_file_path, index=False)\n",
    "\n",
    "print(f\"Processed data saved to {output_file_path}\")\n"
   ]
  },
  {
   "cell_type": "code",
   "execution_count": 5,
   "metadata": {},
   "outputs": [
    {
     "name": "stdout",
     "output_type": "stream",
     "text": [
      "Dataset already exists at /Users/admin/.convokit/downloads/subreddit-Amouranth\n"
     ]
    },
    {
     "ename": "KeyError",
     "evalue": "\"critikles: ooh I'd love to see Amouranth having a rap battle with herself in different cosplay outfits. TheMidnightGhostShow: Seconded. Johnblaze40: This was a good one . lol TheMidnightGhostShow: It is a phenomenal series, so many fun battles!  \\nAnd who \"",
     "output_type": "error",
     "traceback": [
      "\u001b[0;31m---------------------------------------------------------------------------\u001b[0m",
      "\u001b[0;31mKeyError\u001b[0m                                  Traceback (most recent call last)",
      "Cell \u001b[0;32mIn[5], line 28\u001b[0m\n\u001b[1;32m     25\u001b[0m \u001b[38;5;66;03m# Iterate over each conversation ID\u001b[39;00m\n\u001b[1;32m     26\u001b[0m \u001b[38;5;28;01mfor\u001b[39;00m convo_id \u001b[38;5;129;01min\u001b[39;00m convo_ids:\n\u001b[1;32m     27\u001b[0m     \u001b[38;5;66;03m# Get the conversation from the corpus\u001b[39;00m\n\u001b[0;32m---> 28\u001b[0m     conversation \u001b[38;5;241m=\u001b[39m corpus\u001b[38;5;241m.\u001b[39mget_conversation(convo_id)\n\u001b[1;32m     29\u001b[0m     \u001b[38;5;66;03m# If conversation is found, get the count of utterances, otherwise set count to 0\u001b[39;00m\n\u001b[1;32m     30\u001b[0m     \u001b[38;5;28;01mif\u001b[39;00m conversation:\n",
      "File \u001b[0;32m~/miniconda3/lib/python3.11/site-packages/convokit/model/corpus.py:355\u001b[0m, in \u001b[0;36mCorpus.get_conversation\u001b[0;34m(self, convo_id)\u001b[0m\n\u001b[1;32m    348\u001b[0m \u001b[38;5;28;01mdef\u001b[39;00m \u001b[38;5;21mget_conversation\u001b[39m(\u001b[38;5;28mself\u001b[39m, convo_id: \u001b[38;5;28mstr\u001b[39m) \u001b[38;5;241m-\u001b[39m\u001b[38;5;241m>\u001b[39m Conversation:\n\u001b[1;32m    349\u001b[0m \u001b[38;5;250m    \u001b[39m\u001b[38;5;124;03m\"\"\"\u001b[39;00m\n\u001b[1;32m    350\u001b[0m \u001b[38;5;124;03m    Gets Conversation of the specified id from the corpus\u001b[39;00m\n\u001b[1;32m    351\u001b[0m \n\u001b[1;32m    352\u001b[0m \u001b[38;5;124;03m    :param convo_id: id of Conversation\u001b[39;00m\n\u001b[1;32m    353\u001b[0m \u001b[38;5;124;03m    :return: Conversation\u001b[39;00m\n\u001b[1;32m    354\u001b[0m \u001b[38;5;124;03m    \"\"\"\u001b[39;00m\n\u001b[0;32m--> 355\u001b[0m     \u001b[38;5;28;01mreturn\u001b[39;00m \u001b[38;5;28mself\u001b[39m\u001b[38;5;241m.\u001b[39mconversations[convo_id]\n",
      "\u001b[0;31mKeyError\u001b[0m: \"critikles: ooh I'd love to see Amouranth having a rap battle with herself in different cosplay outfits. TheMidnightGhostShow: Seconded. Johnblaze40: This was a good one . lol TheMidnightGhostShow: It is a phenomenal series, so many fun battles!  \\nAnd who \""
     ]
    }
   ],
   "source": [
    "from convokit import Corpus, download\n",
    "import pandas as pd\n",
    "\n",
    "# Load the CSV file\n",
    "csv_file_path = \"/Users/admin/Documents/University/diss-data-collection/Classifier/Sample/combined_utterances_2_final_csv.csv\"\n",
    "data = pd.read_csv(csv_file_path)\n",
    "\n",
    "# Group the data by subreddit\n",
    "grouped_data = data.groupby('subreddit')\n",
    "\n",
    "# Initialize an empty DataFrame to store the processed data\n",
    "processed_data = pd.DataFrame()\n",
    "\n",
    "# Iterate over each subreddit group\n",
    "for subreddit, group in grouped_data:\n",
    "    # Load the corpus for the current subreddit\n",
    "    corpus = Corpus(filename=download(f\"subreddit-{subreddit}\"))\n",
    "    \n",
    "    # Extract the conversation IDs from the group and remove duplicates\n",
    "    convo_ids = group['convo'].unique()\n",
    "    \n",
    "    # Initialize an empty list to store the counts of utterances\n",
    "    utterance_counts = []\n",
    "    \n",
    "    # Iterate over each conversation ID\n",
    "    for convo_id in convo_ids:\n",
    "        # Get the conversation from the corpus\n",
    "        conversation = corpus.get_conversation(convo_id)\n",
    "        # If conversation is found, get the count of utterances, otherwise set count to 0\n",
    "        if conversation:\n",
    "            num_utterances = len(conversation.get_utterance_ids())\n",
    "            utterance_counts.append(num_utterances)\n",
    "        else:\n",
    "            utterance_counts.append(0)\n",
    "    \n",
    "    # Add the utterance counts to the group DataFrame\n",
    "    group['num_utterances'] = utterance_counts\n",
    "    \n",
    "    # Concatenate the processed group to the overall processed data\n",
    "    processed_data = pd.concat([processed_data, group])\n",
    "\n",
    "# Define the path to save the processed DataFrame\n",
    "output_file_path = \"/Users/admin/Documents/University/diss-data-collection/Classifier/Sample/processed_4.csv\"\n",
    "\n",
    "# Save the processed DataFrame to a CSV file\n",
    "processed_data.to_csv(output_file_path, index=False)\n",
    "\n",
    "# Print a message confirming the save operation\n",
    "print(f\"Processed data saved to {output_file_path}\")\n"
   ]
  },
  {
   "cell_type": "code",
   "execution_count": 10,
   "metadata": {},
   "outputs": [
    {
     "name": "stdout",
     "output_type": "stream",
     "text": [
      "Merged data saved to /Users/admin/Documents/University/diss-data-collection/Classifier/Sample/masterpsr.csv\n"
     ]
    }
   ],
   "source": [
    "import pandas as pd\n",
    "\n",
    "# Define file paths\n",
    "gendered_utterances_file = \"/Users/admin/Documents/University/diss-data-collection/Classifier/Sample/gendered_utterances.csv\"\n",
    "processed_file = \"/Users/admin/Documents/University/diss-data-collection/Classifier/Sample/processed_4.csv\"\n",
    "output_file = \"/Users/admin/Documents/University/diss-data-collection/Classifier/Sample/masterpsr.csv\"\n",
    "\n",
    "# Read the CSV files\n",
    "gendered_utterances_df = pd.read_csv(gendered_utterances_file)\n",
    "processed_df = pd.read_csv(processed_file)\n",
    "\n",
    "# Merge the two DataFrames on the 'utterance_id' column\n",
    "merged_df = pd.merge(gendered_utterances_df, processed_df[['utterance_id', 'num_utterances', 'conversation_id']], left_on='id', right_on='utterance_id', how='left')\n",
    "\n",
    "# Drop the 'utterance_id' column (since it's redundant with 'id')\n",
    "merged_df.drop(columns=['utterance_id'], inplace=True)\n",
    "\n",
    "# Save the merged DataFrame to a new CSV file\n",
    "merged_df.to_csv(output_file, index=False)\n",
    "\n",
    "print(f\"Merged data saved to {output_file}\")\n"
   ]
  },
  {
   "cell_type": "code",
   "execution_count": 6,
   "metadata": {},
   "outputs": [
    {
     "name": "stdout",
     "output_type": "stream",
     "text": [
      "Sampled utterances saved to /Users/admin/Downloads/sampled_utterances.csv\n"
     ]
    }
   ],
   "source": [
    "# Define the path to the Downloads directory\n",
    "downloads_dir = os.path.join(os.path.expanduser(\"~\"), \"Downloads\")\n",
    "\n",
    "# Define the path to the CSV file\n",
    "csv_file_path = os.path.join(downloads_dir, \"sampled_utterances.csv\")\n",
    "\n",
    "# Define the headers for the CSV file\n",
    "headers = [\"id\", \"text\", \"Parasocial Language\"]\n",
    "\n",
    "# Open the CSV file for writing\n",
    "with open(csv_file_path, mode='w', newline='', encoding='utf-8') as csv_file:\n",
    "    # Create a CSV writer object\n",
    "    writer = csv.writer(csv_file)\n",
    "    \n",
    "    # Write the headers to the CSV file\n",
    "    writer.writerow(headers)\n",
    "    \n",
    "    # Write each sampled utterance to the CSV file\n",
    "    for utterance in sampled_master_utterances:\n",
    "        writer.writerow([utterance.id, utterance.text, \"\"])  # Empty string for \"Parasocial Language\" column\n",
    "\n",
    "print(f\"Sampled utterances saved to {csv_file_path}\")"
   ]
  }
 ],
 "metadata": {
  "kernelspec": {
   "display_name": "myenv",
   "language": "python",
   "name": "myenv"
  },
  "language_info": {
   "codemirror_mode": {
    "name": "ipython",
    "version": 3
   },
   "file_extension": ".py",
   "mimetype": "text/x-python",
   "name": "python",
   "nbconvert_exporter": "python",
   "pygments_lexer": "ipython3",
   "version": "3.10.13"
  }
 },
 "nbformat": 4,
 "nbformat_minor": 2
}
