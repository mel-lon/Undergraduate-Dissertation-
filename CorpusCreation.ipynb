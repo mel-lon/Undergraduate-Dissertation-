{
 "cells": [
  {
   "cell_type": "code",
   "execution_count": 6,
   "metadata": {},
   "outputs": [],
   "source": [
    "import pandas as pd, numpy as np, random, csv, os\n",
    "from convokit import Corpus, download, Utterance\n"
   ]
  },
  {
   "cell_type": "code",
   "execution_count": 7,
   "metadata": {},
   "outputs": [],
   "source": [
    "subreddits = [\n",
    "    # <Males> 500-1000 speakers and 2-3k utterances\n",
    "    \"NinjasHyper\", \n",
    "    \"DanTDM\",\n",
    "    \"Angory_Tom\",\n",
    "    \"NakeyJakey\",\n",
    "    \"LazarBeam\",\n",
    "\n",
    "    # <Females> 500-1.5k speakers and 3-5k utterances\n",
    "    \"Pokimane\", \n",
    "    \"Amouranth\",\n",
    "    \"legendarylea\", \n",
    "    \"KittyKatGaming\",\n",
    "    \"SonjaReid\",\n",
    "    ]"
   ]
  },
  {
   "cell_type": "code",
   "execution_count": 8,
   "metadata": {},
   "outputs": [
    {
     "name": "stdout",
     "output_type": "stream",
     "text": [
      "Dataset already exists at /Users/admin/.convokit/downloads/subreddit-NinjasHyper\n",
      "Dataset already exists at /Users/admin/.convokit/downloads/subreddit-DanTDM\n",
      "Dataset already exists at /Users/admin/.convokit/downloads/subreddit-Angory_Tom\n",
      "Dataset already exists at /Users/admin/.convokit/downloads/subreddit-NakeyJakey\n",
      "Dataset already exists at /Users/admin/.convokit/downloads/subreddit-LazarBeam\n",
      "Dataset already exists at /Users/admin/.convokit/downloads/subreddit-Pokimane\n",
      "Dataset already exists at /Users/admin/.convokit/downloads/subreddit-Amouranth\n",
      "Dataset already exists at /Users/admin/.convokit/downloads/subreddit-legendarylea\n",
      "Dataset already exists at /Users/admin/.convokit/downloads/subreddit-KittyKatGaming\n",
      "Dataset already exists at /Users/admin/.convokit/downloads/subreddit-SonjaReid\n",
      "Master corpus created successfully.\n",
      "Number of Speakers: 2317\n",
      "Number of Utterances: 4624\n",
      "Number of Conversations: 2740\n"
     ]
    }
   ],
   "source": [
    "# Create a master corpus with the sampled utterances\n",
    "sampled_utterances = []\n",
    "\n",
    "for subreddit in subreddits:\n",
    "    corpus = Corpus(filename=download (f\"subreddit-{subreddit}\"))\n",
    "    utterances = [utt for utt in corpus.iter_utterances() if utt.text]  # Filter out utterances with missing text\n",
    "    sampled_utterances.extend(random.sample(utterances, min(500, len(utterances))))\n",
    "\n",
    "master_corpus = Corpus(utterances=sampled_utterances)\n",
    "print(\"Master corpus created successfully.\")\n",
    "master_corpus.print_summary_stats()\n",
    "\n"
   ]
  },
  {
   "cell_type": "code",
   "execution_count": 9,
   "metadata": {},
   "outputs": [],
   "source": [
    "# Sample 2000 utterances from the master corpus\n",
    "sampled_master_utterances = []\n",
    "for x in range(2000):\n",
    "    sampled_master_utterances.append(master_corpus.random_utterance())\n",
    "\n"
   ]
  },
  {
   "cell_type": "code",
   "execution_count": 10,
   "metadata": {},
   "outputs": [
    {
     "name": "stdout",
     "output_type": "stream",
     "text": [
      "Sampled utterances saved to /Users/admin/Downloads/sampled_utterances.csv\n"
     ]
    }
   ],
   "source": [
    "# Define the path to the Downloads directory\n",
    "downloads_dir = os.path.join(os.path.expanduser(\"~\"), \"Downloads\")\n",
    "\n",
    "# Define the path to the CSV file\n",
    "csv_file_path = os.path.join(downloads_dir, \"sampled_utterances.csv\")\n",
    "\n",
    "# Define the headers for the CSV file\n",
    "headers = [\"id\", \"speaker_id\", \"conversation_id\", \"timestamp\", \"text\"]\n",
    "\n",
    "# Open the CSV file for writing\n",
    "with open(csv_file_path, mode='w', newline='', encoding='utf-8') as csv_file:\n",
    "    # Create a CSV writer object\n",
    "    writer = csv.writer(csv_file)\n",
    "    \n",
    "    # Write the headers to the CSV file\n",
    "    writer.writerow(headers)\n",
    "    \n",
    "    # Write each sampled utterance to the CSV file\n",
    "    for utterance in sampled_master_utterances:\n",
    "        writer.writerow([utterance.id, utterance.speaker.id, utterance.conversation_id, utterance.timestamp, utterance.text])\n",
    "\n",
    "print(f\"Sampled utterances saved to {csv_file_path}\")"
   ]
  }
 ],
 "metadata": {
  "kernelspec": {
   "display_name": "base",
   "language": "python",
   "name": "python3"
  },
  "language_info": {
   "codemirror_mode": {
    "name": "ipython",
    "version": 3
   },
   "file_extension": ".py",
   "mimetype": "text/x-python",
   "name": "python",
   "nbconvert_exporter": "python",
   "pygments_lexer": "ipython3",
   "version": "3.11.5"
  }
 },
 "nbformat": 4,
 "nbformat_minor": 2
}
