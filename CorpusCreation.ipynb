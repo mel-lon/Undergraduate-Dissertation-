{
 "cells": [
  {
   "cell_type": "code",
   "execution_count": 4,
   "metadata": {},
   "outputs": [],
   "source": [
    "import pandas as pd, numpy as np\n",
    "from convokit import Corpus, download"
   ]
  },
  {
   "cell_type": "code",
   "execution_count": 28,
   "metadata": {},
   "outputs": [
    {
     "name": "stdout",
     "output_type": "stream",
     "text": [
      "Dataset already exists at /Users/admin/.convokit/downloads/subreddit-Pokimane\n",
      "\n",
      "Corpus for subreddit 'Pokimane' created successfully. \n",
      "Here are the stats\n",
      "\n",
      "Number of Speakers: 1150\n",
      "Number of Utterances: 3548\n",
      "Number of Conversations: 1017\n",
      "Dataset already exists at /Users/admin/.convokit/downloads/subreddit-lilypichu\n",
      "\n",
      "Corpus for subreddit 'lilypichu' created successfully. \n",
      "Here are the stats\n",
      "\n",
      "Number of Speakers: 2915\n",
      "Number of Utterances: 7233\n",
      "Number of Conversations: 1427\n",
      "Dataset already exists at /Users/admin/.convokit/downloads/subreddit-kaceytron\n",
      "\n",
      "Corpus for subreddit 'kaceytron' created successfully. \n",
      "Here are the stats\n",
      "\n",
      "Number of Speakers: 1468\n",
      "Number of Utterances: 13459\n",
      "Number of Conversations: 3537\n",
      "Dataset already exists at /Users/admin/.convokit/downloads/subreddit-Amouranth\n",
      "\n",
      "Corpus for subreddit 'Amouranth' created successfully. \n",
      "Here are the stats\n",
      "\n",
      "Number of Speakers: 636\n",
      "Number of Utterances: 4930\n",
      "Number of Conversations: 2114\n",
      "Downloading subreddit-legendarylea to /Users/admin/.convokit/downloads/subreddit-legendarylea\n",
      "Downloading subreddit-legendarylea from http://zissou.infosci.cornell.edu/convokit/datasets/subreddit-corpus/corpus-zipped/legaladvice_survivors~-~letsplay/legendarylea.corpus.zip (410.1KB)... Done\n",
      "\n",
      "Corpus for subreddit 'legendarylea' created successfully. \n",
      "Here are the stats\n",
      "\n",
      "Number of Speakers: 1531\n",
      "Number of Utterances: 4810\n",
      "Number of Conversations: 993\n"
     ]
    }
   ],
   "source": [
    "#list of subreddits - commented out the ones which are ignored\n",
    "subreddits = [\n",
    "\n",
    "    # <Males>\n",
    "    \"EtikaRedditNetwork\",\n",
    "    \"LeafyIsHere\",\n",
    "    \"jacksepticeye\",\n",
    "    \"pewdiepie\",\n",
    "    \"pyrocynical\",\n",
    "    \"CorpseHusband\",\n",
    "\n",
    "\n",
    "    # \"WillNE\", too small\n",
    "    #\"DreamWasTaken\", does not exist\n",
    "    #\"Deji\", too small\n",
    "    #\"MaximillianMus\",  too small\n",
    "    #\"Memeulous\", too small\n",
    "\n",
    "\n",
    "    # <Females> tryign to get them to be roughly proportionate\n",
    "    \"Pokimane\", \n",
    "    \"lilypichu\",\n",
    "    \"kaceytron\",\n",
    "    \"Amouranth\",\n",
    "    \"legendarylea\",\n",
    "    # \"Kyedae\", does not exist\n",
    "    # \"Jinnytty\", does not exist\n",
    "    # \"valkyrae\", small\n",
    "    # \"fuslie\", small\n",
    "    # \"GabSmolders\", does not exist\n",
    "    # \"snapcube\", does not exist\n",
    "    # \"Katerino\", does not exist\n",
    "    \n",
    "]\n",
    "   \n",
    "\n",
    "for subreddit in subreddits:\n",
    "    CurrentDownload = Corpus(filename=download(f\"subreddit-{subreddit}\"))\n",
    "    print(f\"\\nCorpus for subreddit '{subreddit}' created successfully. \\nHere are the stats\\n\")\n",
    "    stats = CurrentDownload.print_summary_stats()\n",
    "\n",
    "    "
   ]
  }
 ],
 "metadata": {
  "kernelspec": {
   "display_name": "base",
   "language": "python",
   "name": "python3"
  },
  "language_info": {
   "codemirror_mode": {
    "name": "ipython",
    "version": 3
   },
   "file_extension": ".py",
   "mimetype": "text/x-python",
   "name": "python",
   "nbconvert_exporter": "python",
   "pygments_lexer": "ipython3",
   "version": "3.11.5"
  }
 },
 "nbformat": 4,
 "nbformat_minor": 2
}
